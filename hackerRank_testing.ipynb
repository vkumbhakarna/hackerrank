{
 "cells": [
  {
   "cell_type": "code",
   "execution_count": 17,
   "metadata": {},
   "outputs": [
    {
     "name": "stdout",
     "output_type": "stream",
     "text": [
      "5\n",
      "0 -2 4\n",
      "1 -1 1\n",
      "2 0 0\n",
      "3 1 1\n",
      "4 2 4\n",
      "[]\n"
     ]
    }
   ],
   "source": [
    "A=[-2,-1,0,1,2]\n",
    "print(len(A))\n",
    "i=0\n",
    "squares = []\n",
    "while i < len(A):\n",
    "    #squares[i] = A[i] * A[i]\n",
    "    #i+=1\n",
    "    print(i,A[i],A[i]*A[i],A)\n",
    "    i+=1\n",
    "\n",
    "print(squares)"
   ]
  },
  {
   "cell_type": "code",
   "execution_count": 11,
   "metadata": {},
   "outputs": [
    {
     "name": "stdout",
     "output_type": "stream",
     "text": [
      "5\n",
      "-2\n",
      "2\n"
     ]
    }
   ],
   "source": [
    "A=[-2,-1,0,1,2]\n",
    "print(len(A))\n",
    "print(A[0])\n",
    "print(A[4])"
   ]
  },
  {
   "cell_type": "code",
   "execution_count": 23,
   "metadata": {},
   "outputs": [
    {
     "name": "stdout",
     "output_type": "stream",
     "text": [
      "2\n"
     ]
    }
   ],
   "source": [
    "i=int(5)\n",
    "print(int(i/2))"
   ]
  },
  {
   "cell_type": "code",
   "execution_count": 24,
   "metadata": {},
   "outputs": [
    {
     "name": "stdout",
     "output_type": "stream",
     "text": [
      "[-2, -1, 0, 1, 2]\n"
     ]
    },
    {
     "data": {
      "text/plain": [
       "-2"
      ]
     },
     "execution_count": 24,
     "metadata": {},
     "output_type": "execute_result"
    }
   ],
   "source": [
    "print(A)\n",
    "A.pop(0)"
   ]
  },
  {
   "cell_type": "code",
   "execution_count": 25,
   "metadata": {},
   "outputs": [
    {
     "name": "stdout",
     "output_type": "stream",
     "text": [
      "[-1, 0, 1, 2]\n"
     ]
    }
   ],
   "source": [
    "print(A)"
   ]
  },
  {
   "cell_type": "code",
   "execution_count": 27,
   "metadata": {},
   "outputs": [
    {
     "data": {
      "text/plain": [
       "2"
      ]
     },
     "execution_count": 27,
     "metadata": {},
     "output_type": "execute_result"
    }
   ],
   "source": [
    "A.pop()"
   ]
  },
  {
   "cell_type": "code",
   "execution_count": 28,
   "metadata": {},
   "outputs": [
    {
     "name": "stdout",
     "output_type": "stream",
     "text": [
      "[-1, 0, 1]\n"
     ]
    }
   ],
   "source": [
    "print(A)"
   ]
  },
  {
   "cell_type": "code",
   "execution_count": 29,
   "metadata": {},
   "outputs": [
    {
     "name": "stdout",
     "output_type": "stream",
     "text": [
      "1\n",
      "2\n",
      "3\n",
      "4\n"
     ]
    }
   ],
   "source": [
    "for i in range(1,5):\n",
    "    print(i) "
   ]
  },
  {
   "cell_type": "code",
   "execution_count": 56,
   "metadata": {},
   "outputs": [
    {
     "name": "stdout",
     "output_type": "stream",
     "text": [
      "Hce akr\n",
      "Rn ak\n"
     ]
    }
   ],
   "source": [
    "Se=str()\n",
    "So=str()\n",
    "S1='Hacker'\n",
    "S2='Rank'\n",
    "\n",
    "for i in range(len(S1)):\n",
    "    if i % 2 == 0:\n",
    "        #print(S[i])\n",
    "        Se+=S1[i]\n",
    "    else:\n",
    "        #print(S[i])\n",
    "        So+=S1[i]\n",
    "\n",
    "print(Se + ' ' +So)\n",
    "i=0\n",
    "Se=''\n",
    "So=''\n",
    "for i in range(len(S2)):\n",
    "    if i % 2 == 0:\n",
    "        #print(S[i])\n",
    "        Se+=S2[i]\n",
    "    else:\n",
    "        #print(S[i])\n",
    "        So+=S2[i]\n",
    "print(Se + ' ' +So)"
   ]
  },
  {
   "cell_type": "code",
   "execution_count": 46,
   "metadata": {},
   "outputs": [
    {
     "name": "stdout",
     "output_type": "stream",
     "text": [
      "['Hacker', 'Rank']\n"
     ]
    },
    {
     "data": {
      "text/plain": [
       "list"
      ]
     },
     "execution_count": 46,
     "metadata": {},
     "output_type": "execute_result"
    }
   ],
   "source": [
    "S1='Hacker'\n",
    "S2='Rank'\n",
    "S=[S1,S2]\n",
    "print(S)\n",
    "type(S)\n",
    "\n"
   ]
  },
  {
   "cell_type": "code",
   "execution_count": 38,
   "metadata": {},
   "outputs": [],
   "source": [
    "def find_max_sum(l):\n",
    "    largest = float(\"-inf\")\n",
    "    for i in range(len(l)-2): \n",
    "        for j in range(len(l[0])-2):\n",
    "            hg = sum(l[i][j:j+3]) + l[i+1][j+1] +sum(l[i+2][j:j+3])\n",
    "            if hg > largest: \n",
    "                largest = hg\n",
    "    return(largest)"
   ]
  },
  {
   "cell_type": "code",
   "execution_count": 17,
   "metadata": {},
   "outputs": [
    {
     "name": "stdout",
     "output_type": "stream",
     "text": [
      "[[0, 0, 0, 0, 0, 0], [0, 0, 0, 0, 0, 0], [0, 0, 0, 0, 0, 0], [0, 0, 0, 0, 0, 0], [0, 0, 0, 0, 0, 0], [0, 0, 0, 0, 0, 0]]\n",
      "[[1, 1, 1, 0, 0, 0], [0, 1, 0, 0, 0, 0], [1, 1, 1, 0, 0, 0], [0, 0, 0, 0, 0, 0], [0, 0, 0, 0, 0, 0], [0, 0, 0, 0, 0, 0]]\n"
     ]
    }
   ],
   "source": [
    "l=[[0 for i in range(0,6)] for j in range(0,6)]\n",
    "print(l)\n",
    "l[0][0]=1\n",
    "l[0][1]=1\n",
    "l[0][2]=1\n",
    "l[1][1]=1\n",
    "l[2][0]=1\n",
    "l[2][1]=1\n",
    "l[2][2]=1\n",
    "print(l)"
   ]
  },
  {
   "cell_type": "code",
   "execution_count": 8,
   "metadata": {},
   "outputs": [
    {
     "data": {
      "text/plain": [
       "7"
      ]
     },
     "execution_count": 8,
     "metadata": {},
     "output_type": "execute_result"
    }
   ],
   "source": [
    "find_max_sum(l)"
   ]
  },
  {
   "cell_type": "code",
   "execution_count": 9,
   "metadata": {},
   "outputs": [
    {
     "name": "stdout",
     "output_type": "stream",
     "text": [
      "[[0, 0, 0, 0, 0, 0], [0, 0, 0, 0, 0, 0], [0, 0, 0, 0, 0, 0], [0, 0, 0, 0, 0, 0], [0, 0, 0, 0, 0, 0], [0, 0, 0, 0, 0, 0]]\n"
     ]
    }
   ],
   "source": [
    "l=[[0 for i in range(0,6)] for j in range(0,6)]\n",
    "print(l)"
   ]
  },
  {
   "cell_type": "code",
   "execution_count": 10,
   "metadata": {},
   "outputs": [
    {
     "data": {
      "text/plain": [
       "0"
      ]
     },
     "execution_count": 10,
     "metadata": {},
     "output_type": "execute_result"
    }
   ],
   "source": [
    "find_max_sum(l)"
   ]
  },
  {
   "cell_type": "code",
   "execution_count": 11,
   "metadata": {},
   "outputs": [
    {
     "name": "stdout",
     "output_type": "stream",
     "text": [
      "[[1, 1, 1, 1, 1, 1], [1, 1, 1, 1, 1, 1], [1, 1, 1, 1, 1, 1], [1, 1, 1, 1, 1, 1], [1, 1, 1, 1, 1, 1], [1, 1, 1, 1, 1, 1]]\n"
     ]
    },
    {
     "data": {
      "text/plain": [
       "7"
      ]
     },
     "execution_count": 11,
     "metadata": {},
     "output_type": "execute_result"
    }
   ],
   "source": [
    "l=[[1 for i in range(0,6)] for j in range(0,6)]\n",
    "print(l)\n",
    "find_max_sum(l)"
   ]
  },
  {
   "cell_type": "code",
   "execution_count": 13,
   "metadata": {},
   "outputs": [],
   "source": [
    "l=[ [-1, -1, 0, -9, -2, -2],\n",
    "    [-2, -1, -6, -8, -2, -5],   \n",
    "    [-1, -1, -1, -2, -3, -4],     \n",
    "    [-1, -9, -2, -4, -4, -5],       \n",
    "    [-7, -3, -3, -2, -9, -9],            \n",
    "    [-1, -3, -1, -2, -4, -5],   \n",
    "    ]"
   ]
  },
  {
   "cell_type": "code",
   "execution_count": 14,
   "metadata": {},
   "outputs": [
    {
     "name": "stdout",
     "output_type": "stream",
     "text": [
      "[[-1, -1, 0, -9, -2, -2], [-2, -1, -6, -8, -2, -5], [-1, -1, -1, -2, -3, -4], [-1, -9, -2, -4, -4, -5], [-7, -3, -3, -2, -9, -9], [-1, -3, -1, -2, -4, -5]]\n"
     ]
    }
   ],
   "source": [
    "print(l)"
   ]
  },
  {
   "cell_type": "code",
   "execution_count": 39,
   "metadata": {},
   "outputs": [
    {
     "data": {
      "text/plain": [
       "7"
      ]
     },
     "execution_count": 39,
     "metadata": {},
     "output_type": "execute_result"
    }
   ],
   "source": [
    "find_max_sum(l)"
   ]
  },
  {
   "cell_type": "code",
   "execution_count": 1,
   "metadata": {},
   "outputs": [
    {
     "name": "stdout",
     "output_type": "stream",
     "text": [
      "[[0, 0, 0, 0, 0, 0], [0, 0, 0, 0, 0, 0], [0, 0, 0, 0, 0, 0], [0, 0, 0, 0, 0, 0], [0, 0, 0, 0, 0, 0], [0, 0, 0, 0, 0, 0]]\n"
     ]
    }
   ],
   "source": [
    "l=[[0 for i in range(0,6)] for j in range(0,6)]\n",
    "print(l)"
   ]
  },
  {
   "cell_type": "code",
   "execution_count": 5,
   "metadata": {},
   "outputs": [
    {
     "name": "stdout",
     "output_type": "stream",
     "text": [
      "1\n",
      "1\n",
      "1\n",
      "2\n",
      "[[0, 0, 0], [0, 0, 1], [0, 1, 0], [1, 0, 0], [1, 1, 1]]\n"
     ]
    }
   ],
   "source": [
    "x,y,z,n = [int(input()) for _ in range(4)]\n",
    "print ([[a,b,c] for a in range(x+1) for b in range(y+1) for c in range(z+1) if a+b+c != n])\n"
   ]
  },
  {
   "cell_type": "code",
   "execution_count": 6,
   "metadata": {},
   "outputs": [
    {
     "name": "stdout",
     "output_type": "stream",
     "text": [
      "4\n"
     ]
    }
   ],
   "source": [
    "arr=[0,2,2,4,5]\n",
    "ms=max(arr)\n",
    "#print(ms)\n",
    "rs=0\n",
    "for i in arr:\n",
    "    if i<ms:\n",
    "        rs=max(rs,i)\n",
    "print(rs)"
   ]
  },
  {
   "cell_type": "code",
   "execution_count": 9,
   "metadata": {},
   "outputs": [
    {
     "name": "stdout",
     "output_type": "stream",
     "text": [
      "4\n",
      "1 2 2 2\n",
      "{1, 2}\n",
      "2\n"
     ]
    }
   ],
   "source": [
    " n = int(input())\n",
    "arr = map(int, input().split())\n",
    "#print(arr)\n",
    "ob=set(arr)\n",
    "print(ob)\n",
    "rs=0\n",
    "ms=max(ob)\n",
    "for i in ob:\n",
    "    if i<=ms:\n",
    "        rs=max(rs,i)\n",
    "print(rs)"
   ]
  },
  {
   "cell_type": "code",
   "execution_count": 23,
   "metadata": {},
   "outputs": [
    {
     "name": "stdout",
     "output_type": "stream",
     "text": [
      "{1}\n"
     ]
    }
   ],
   "source": [
    "#print(n,arr)\n",
    "#print('arr',arr)\n",
    "type(arr)\n",
    "#for i in arr:\n",
    "#   print(i,arr[i])\n",
    "ob=set(arr)\n",
    "print(ob)"
   ]
  },
  {
   "cell_type": "code",
   "execution_count": null,
   "metadata": {},
   "outputs": [],
   "source": [
    "print(arr)"
   ]
  },
  {
   "cell_type": "code",
   "execution_count": 1,
   "metadata": {},
   "outputs": [
    {
     "name": "stdout",
     "output_type": "stream",
     "text": [
      "HI\n"
     ]
    }
   ],
   "source": [
    "print('HI')"
   ]
  },
  {
   "cell_type": "code",
   "execution_count": 5,
   "metadata": {},
   "outputs": [
    {
     "name": "stdout",
     "output_type": "stream",
     "text": [
      "<map object at 0x00000202BEBE8898>\n",
      "{16, 1, 4, 9}\n"
     ]
    }
   ],
   "source": [
    "numbers=(1,2,3,4)\n",
    "result = map(lambda x: x*x, numbers)\n",
    "print(result)\n",
    "# converting map object to set\n",
    "numbersSquare=set(result)\n",
    "print(numbersSquare)"
   ]
  },
  {
   "cell_type": "code",
   "execution_count": 25,
   "metadata": {},
   "outputs": [
    {
     "name": "stdout",
     "output_type": "stream",
     "text": [
      "4\n",
      "-3 -2 3 4\n",
      "-2\n"
     ]
    }
   ],
   "source": [
    "    n = int(input())\n",
    "    arr = map(int, input().split())\n",
    "    ob=set(arr)\n",
    "    msp=max(ob)\n",
    "    msn=min(ob)\n",
    "    rsn=float(\"-inf\")\n",
    "    rsp=0\n",
    "    #rs=0\n",
    "    #rsn=min()\n",
    "    for i in ob:\n",
    "        if i>=0:\n",
    "            if i <msp:\n",
    "                rs=max(rsp,i)\n",
    "        else:\n",
    "            if i >msn:\n",
    "                rs=max(rsn,i)\n",
    "    print(rs)            "
   ]
  },
  {
   "cell_type": "code",
   "execution_count": 37,
   "metadata": {},
   "outputs": [
    {
     "name": "stdout",
     "output_type": "stream",
     "text": [
      "3\n",
      "-2 2 3\n",
      "2\n"
     ]
    }
   ],
   "source": [
    "# Hacker rank : Find the Runner-Up Score!\n",
    "\n",
    "n = int(input())\n",
    "arr = list(map(int, input().split()))\n",
    "me=max(arr)\n",
    "i=0\n",
    "while i < n:\n",
    "    if me == max(arr):\n",
    "          arr.remove(max(arr))\n",
    "    i+=1\n",
    "print (max(arr))"
   ]
  },
  {
   "cell_type": "code",
   "execution_count": 4,
   "metadata": {},
   "outputs": [
    {
     "name": "stdout",
     "output_type": "stream",
     "text": [
      "enter N: 2\n",
      "enter name: rd\n",
      "enter score for name: 10\n",
      "enter name: pd\n",
      "enter score for name: 20\n",
      "[['rd', 10.0], ['pd', 20.0]]\n",
      "[10.0, 20.0]\n",
      "b: 20.0\n",
      "pd\n"
     ]
    }
   ],
   "source": [
    "#Second to last highest score\n",
    "mylst=[]\n",
    "for _ in range(int(input(\"enter N: \"))):\n",
    "    name = input(\"enter name: \")\n",
    "    score = float(input(\"enter score for name: \"))\n",
    "    \n",
    "    mylst.append([name, score])\n",
    "mrklst=[]\n",
    "scrlst=[]\n",
    "for id,val in enumerate(mylst):\n",
    "    mrklst+=[[val[0],val[1]]]\n",
    "    scrlst+=[val[1]]\n",
    "print(mrklst)\n",
    "print(scrlst)\n",
    "b=sorted(list(set(scrlst)))[1]\n",
    "print(\"b:\",b)\n",
    "for id,val in sorted(mrklst):\n",
    "    if val==b:\n",
    "        print(id)\n"
   ]
  },
  {
   "cell_type": "code",
   "execution_count": 15,
   "metadata": {},
   "outputs": [
    {
     "name": "stdout",
     "output_type": "stream",
     "text": [
      "{'viraj': [10.0, 20.0, 30.0]}\n"
     ]
    }
   ],
   "source": [
    "output=\"viraj 10 20 30\"\n",
    "#' '.join(map(str,list(output)))\n",
    "#mydict={}\n",
    "name,scr1, scr2,scr3 = output.split()\n",
    "mydict={name: [float(scr1), float(scr2), float(scr3)]}\n",
    "print(mydict)\n",
    "#for i  in output:\n",
    "#    print(i)"
   ]
  },
  {
   "cell_type": "code",
   "execution_count": null,
   "metadata": {},
   "outputs": [],
   "source": [
    "print(name, scr1, scr2, scr3)"
   ]
  },
  {
   "cell_type": "code",
   "execution_count": 2,
   "metadata": {},
   "outputs": [
    {
     "name": "stdout",
     "output_type": "stream",
     "text": [
      "2\n",
      "vk 10 20 30\n",
      "rd 20 30 40\n",
      "rd\n",
      "[20.0, 30.0, 40.0]\n"
     ]
    }
   ],
   "source": [
    "    n = int(input())\n",
    "    student_marks = {}\n",
    "    for _ in range(n):\n",
    "        name, *line = input().split()\n",
    "        scores = list(map(float, line))\n",
    "        student_marks[name] = scores\n",
    "    query_name = input()\n",
    "    print(student_marks[query_name])"
   ]
  },
  {
   "cell_type": "code",
   "execution_count": 14,
   "metadata": {},
   "outputs": [
    {
     "name": "stdout",
     "output_type": "stream",
     "text": [
      "rd\n",
      "[20.0, 30.0, 40.0]\n",
      "{'vk': [10.0, 20.0, 30.0], 'rd': [20.0, 30.0, 40.0]}\n",
      "rd\n",
      "[20.0, 30.0, 40.0]\n",
      "3\n",
      "30.00\n"
     ]
    }
   ],
   "source": [
    "print(name)\n",
    "print(scores)\n",
    "print(student_marks)\n",
    "print(query_name)\n",
    "print(student_marks[query_name])\n",
    "totsum=0\n",
    "avgscr=float(0)\n",
    "for i in student_marks[query_name]:\n",
    "    totsum+=i\n",
    "print(len(student_marks[query_name]))    \n",
    "avgscr=totsum/len(student_marks[query_name])\n",
    "print(f'{round(avgscr,2):.2f}')    "
   ]
  },
  {
   "cell_type": "code",
   "execution_count": null,
   "metadata": {},
   "outputs": [],
   "source": [
    "#Dynamic array\n",
    "seqList=[1 2 3 4 5]\n",
    "lastAnswer=0\n",
    "def dynamicArray(n,queries):\n",
    "    \n"
   ]
  },
  {
   "cell_type": "code",
   "execution_count": 77,
   "metadata": {},
   "outputs": [
    {
     "name": "stdout",
     "output_type": "stream",
     "text": [
      "2 5\n",
      "1 0 5\n",
      "1 1 7\n",
      "1 0 3\n",
      "2 1 0\n",
      "2 1 1\n"
     ]
    }
   ],
   "source": [
    "\n",
    "    first_multiple_input = input().rstrip().split()\n",
    "\n",
    "    n = int(first_multiple_input[0])\n",
    "\n",
    "    q = int(first_multiple_input[1])\n",
    "\n",
    "    queries = []\n",
    "\n",
    "    for _ in range(q):\n",
    "        queries.append(list(map(int, input().rstrip().split())))\n"
   ]
  },
  {
   "cell_type": "code",
   "execution_count": 84,
   "metadata": {},
   "outputs": [
    {
     "name": "stdout",
     "output_type": "stream",
     "text": [
      "n 2\n",
      "q 5\n",
      "queries [[1, 0, 5], [1, 1, 7], [1, 0, 3], [2, 1, 0], [2, 1, 1]]\n"
     ]
    }
   ],
   "source": [
    "print(\"n\",n)\n",
    "print(\"q\",q)\n",
    "print(\"queries\",queries)\n"
   ]
  },
  {
   "cell_type": "code",
   "execution_count": null,
   "metadata": {},
   "outputs": [],
   "source": [
    "def dynamicArray(n,queries):\n",
    "    lastAnswer=0\n",
    "    for i in range(0,n):\n",
    "        si=[]\n",
    "    for arr in queries:\n",
    "        if arr[0]==1:\n",
    "            if ((arr[1] ^ lastAnswer) % n) ==1:\n",
    "                s1.append(arr[2])\n",
    "            else:\n",
    "                s0.append(arr[2])\n",
    "        elif arr[0]==2:\n",
    "            #if ((arr[1] ^ lastAnswer) % n) ==1:\n",
    "            #    s1.append(arr[2])\n",
    "            #else:\n",
    "            #    s0.append(arr[2])\n",
    "            #\n",
    "            seq=((arr[1] ^ lastAnswer) % n)\n",
    "            if seq==0:\n",
    "                lastAnswer=s0[0]\n",
    "            elif seq==1:\n",
    "                lastAnswer=s1[0]\n",
    "            print(lastAnswer)\n",
    "    #print(s0)\n",
    "    #print(s1)"
   ]
  },
  {
   "cell_type": "code",
   "execution_count": 85,
   "metadata": {},
   "outputs": [],
   "source": [
    "def dynamicArray(n,queries):\n",
    "    lastAnswer=0\n",
    "    for i in range(0,n):\n",
    "        si=[]\n",
    "    for arr in queries:\n",
    "        if arr[0]==1:\n",
    "            seq=\"s\"+str(((arr[1] ^ lastAnswer) % n))\n",
    "            seq+=str(arr[2])\n",
    "        else:\n",
    "            seq=\"s\"+str((arr[1] ^ lastAnswer) % n)\n",
    "            #seq+=str(arr[2])\n",
    "            lastAnswer=arr[2]%len(seq)\n",
    "            print(lastAnswer)\n"
   ]
  },
  {
   "cell_type": "code",
   "execution_count": 61,
   "metadata": {},
   "outputs": [
    {
     "name": "stdout",
     "output_type": "stream",
     "text": [
      "s0 []\n",
      "s1 []\n",
      "s2 []\n",
      "s3 []\n",
      "s4 []\n"
     ]
    }
   ],
   "source": [
    "for i in range(0,5):\n",
    "    si=[]\n",
    "    print(\"s\"+str(i),si)    "
   ]
  },
  {
   "cell_type": "code",
   "execution_count": 87,
   "metadata": {},
   "outputs": [
    {
     "name": "stdout",
     "output_type": "stream",
     "text": [
      "n 2\n",
      "q 5\n",
      "queries [[1, 0, 5], [1, 1, 7], [1, 0, 3], [2, 1, 0], [2, 1, 1]]\n"
     ]
    }
   ],
   "source": [
    "print(\"n\",n)\n",
    "print(\"q\",q)\n",
    "print(\"queries\",queries)\n"
   ]
  },
  {
   "cell_type": "code",
   "execution_count": 115,
   "metadata": {},
   "outputs": [],
   "source": [
    "def dynamicArray(n,queries):\n",
    "    lastAnswer=0\n",
    "    seqList=[]\n",
    "    for i in range(n):\n",
    "        seqList.append([])\n",
    "    for arr in queries:\n",
    "        if arr[0]==1:\n",
    "            seq=(arr[1] ^ lastAnswer) % n\n",
    "            seqList[seq].append(arr[2])\n",
    "        else:\n",
    "            seq=(arr[1] ^ lastAnswer) % n\n",
    "            lastAnswer= seqList[seq][arr[2] % len(seqList[seq])]\n",
    "            print(lastAnswer)\n"
   ]
  },
  {
   "cell_type": "code",
   "execution_count": 116,
   "metadata": {},
   "outputs": [
    {
     "name": "stdout",
     "output_type": "stream",
     "text": [
      "7\n",
      "3\n"
     ]
    }
   ],
   "source": [
    "dynamicArray(n,queries)"
   ]
  },
  {
   "cell_type": "code",
   "execution_count": 27,
   "metadata": {},
   "outputs": [
    {
     "name": "stdout",
     "output_type": "stream",
     "text": [
      "5 4\n",
      "1 2 3 4 5\n"
     ]
    }
   ],
   "source": [
    "#left rotation\n",
    "nd=input().split()\n",
    "n=int(nd[0])\n",
    "d=int(nd[1])\n",
    "\n",
    "a=list(map(int,input().rstrip().split()))"
   ]
  },
  {
   "cell_type": "code",
   "execution_count": 28,
   "metadata": {},
   "outputs": [
    {
     "name": "stdout",
     "output_type": "stream",
     "text": [
      "nd ['5', '4']\n",
      "n 5\n",
      "d 4\n",
      "a [1, 2, 3, 4, 5]\n"
     ]
    }
   ],
   "source": [
    "print(\"nd\",nd)\n",
    "print(\"n\",n)\n",
    "print(\"d\",d)\n",
    "print(\"a\",a)\n"
   ]
  },
  {
   "cell_type": "code",
   "execution_count": 8,
   "metadata": {},
   "outputs": [
    {
     "name": "stdout",
     "output_type": "stream",
     "text": [
      "[2, 3, 4, 5, 1]\n"
     ]
    }
   ],
   "source": [
    "a[0],a[1]=a[1],a[0]\n",
    "a[1],a[2]=a[2],a[1]\n",
    "a[2],a[3]=a[3],a[2]\n",
    "a[3],a[4]=a[4],a[3]\n",
    "print(a)"
   ]
  },
  {
   "cell_type": "code",
   "execution_count": 29,
   "metadata": {},
   "outputs": [
    {
     "name": "stdout",
     "output_type": "stream",
     "text": [
      "[5, 1, 2, 3, 4]\n"
     ]
    }
   ],
   "source": [
    "j=0\n",
    "while j <d:\n",
    "    for i in range(1,n ):\n",
    "        a[i - 1], a[i] = a[i], a[i-1]\n",
    "    j+=1\n",
    "print(a)  \n"
   ]
  },
  {
   "cell_type": "code",
   "execution_count": 23,
   "metadata": {},
   "outputs": [
    {
     "name": "stdout",
     "output_type": "stream",
     "text": [
      "0 1\n",
      "1 2\n",
      "2 3\n",
      "3 4\n",
      "while 0\n",
      "while 1\n",
      "while 2\n",
      "while 3\n",
      "while 4\n"
     ]
    }
   ],
   "source": [
    "for i in range(1,n):\n",
    "    #print(\"for\",i)\n",
    "    print(i-1,i)\n",
    "i=0    \n",
    "while i < n:\n",
    "    print(\"while\",i)\n",
    "    i+=1\n",
    "    ''"
   ]
  },
  {
   "cell_type": "code",
   "execution_count": 32,
   "metadata": {},
   "outputs": [
    {
     "name": "stdout",
     "output_type": "stream",
     "text": [
      "5 4\n",
      "1 2 3 4 5\n"
     ]
    }
   ],
   "source": [
    "#left rotation\n",
    "nd = input().split()\n",
    "\n",
    "n = int(nd[0])\n",
    "\n",
    "d = int(nd[1])\n",
    "\n",
    "a = list(map(int, input().rstrip().split()))\n"
   ]
  },
  {
   "cell_type": "code",
   "execution_count": 33,
   "metadata": {},
   "outputs": [
    {
     "name": "stdout",
     "output_type": "stream",
     "text": [
      "nd ['5', '4']\n",
      "n 5\n",
      "d 4\n",
      "a [1, 2, 3, 4, 5]\n"
     ]
    }
   ],
   "source": [
    "print(\"nd\",nd)\n",
    "print(\"n\",n)\n",
    "print(\"d\",d)\n",
    "print(\"a\",a)\n"
   ]
  },
  {
   "cell_type": "code",
   "execution_count": 34,
   "metadata": {},
   "outputs": [
    {
     "name": "stdout",
     "output_type": "stream",
     "text": [
      "[5, 1, 2, 3, 4]\n"
     ]
    }
   ],
   "source": [
    "outlst=a[d:]+a[:d]\n",
    "print(outlst,sep=\" \")"
   ]
  },
  {
   "cell_type": "code",
   "execution_count": 65,
   "metadata": {},
   "outputs": [],
   "source": [
    "#Sparse Arrays\n",
    "\n",
    "def matchingStrings(strings, queries):\n",
    "    results=[0]*len(queries)\n",
    "    for i in range(len(queries)):\n",
    "        for j in range(len(strings)):\n",
    "            #print(queries[i],strings[j])\n",
    "            if queries[i]==strings[j]:\n",
    "                results[i]+=1\n",
    "    return results\n",
    "                \n",
    "    "
   ]
  },
  {
   "cell_type": "code",
   "execution_count": 66,
   "metadata": {},
   "outputs": [
    {
     "data": {
      "text/plain": [
       "[2, 1, 0]"
      ]
     },
     "execution_count": 66,
     "metadata": {},
     "output_type": "execute_result"
    }
   ],
   "source": [
    "strings=['aba','baba','aba','xzxb']\n",
    "queries=['aba','xzxb','ab']\n",
    "\n",
    "matchingStrings(strings,queries)"
   ]
  },
  {
   "cell_type": "code",
   "execution_count": null,
   "metadata": {},
   "outputs": [],
   "source": [
    "print(\"my name is viraj\")"
   ]
  },
  {
   "cell_type": "code",
   "execution_count": 74,
   "metadata": {},
   "outputs": [],
   "source": [
    "def matchingStrings(strings, queries):\n",
    "    return [strings.count(q) for q in queries]"
   ]
  },
  {
   "cell_type": "code",
   "execution_count": 75,
   "metadata": {},
   "outputs": [
    {
     "name": "stdout",
     "output_type": "stream",
     "text": [
      "[2, 1, 0]\n"
     ]
    }
   ],
   "source": [
    "strings=['aba','baba','aba','xzxb']\n",
    "queries=['aba','xzxb','ab']\n",
    "\n",
    "result=matchingStrings(strings,queries)\n",
    "print(result,sep='\\n')"
   ]
  },
  {
   "cell_type": "code",
   "execution_count": 185,
   "metadata": {},
   "outputs": [],
   "source": [
    "#Array Manipulation\n",
    "#case 1\n",
    "n=10\n",
    "m=4\n",
    "queries=[[2,6,8],[3,5,7],[1,8,1],[5,9,15]]\n",
    "#case 2\n",
    "#n=5\n",
    "#m=3\n",
    "#queries=[[1,2,100],[2,5,100],[3,4,100]]"
   ]
  },
  {
   "cell_type": "code",
   "execution_count": 186,
   "metadata": {},
   "outputs": [
    {
     "name": "stdout",
     "output_type": "stream",
     "text": [
      "10 4 [[2, 6, 8], [3, 5, 7], [1, 8, 1], [5, 9, 15]]\n"
     ]
    }
   ],
   "source": [
    "print(n,m,queries)"
   ]
  },
  {
   "cell_type": "code",
   "execution_count": 187,
   "metadata": {},
   "outputs": [],
   "source": [
    "def arrayManipulation(n, queries):\n",
    "    tst=[0]*n\n",
    "    for i,j,k in queries:\n",
    "        for x in range(i,j):\n",
    "            print(tst)\n",
    "            tst[x]+=k\n",
    "    return max(tst)"
   ]
  },
  {
   "cell_type": "code",
   "execution_count": 188,
   "metadata": {},
   "outputs": [
    {
     "name": "stdout",
     "output_type": "stream",
     "text": [
      "[0, 0, 0, 0, 0, 0, 0, 0, 0, 0]\n",
      "[0, 0, 8, 0, 0, 0, 0, 0, 0, 0]\n",
      "[0, 0, 8, 8, 0, 0, 0, 0, 0, 0]\n",
      "[0, 0, 8, 8, 8, 0, 0, 0, 0, 0]\n",
      "[0, 0, 8, 8, 8, 8, 0, 0, 0, 0]\n",
      "[0, 0, 8, 15, 8, 8, 0, 0, 0, 0]\n",
      "[0, 0, 8, 15, 15, 8, 0, 0, 0, 0]\n",
      "[0, 1, 8, 15, 15, 8, 0, 0, 0, 0]\n",
      "[0, 1, 9, 15, 15, 8, 0, 0, 0, 0]\n",
      "[0, 1, 9, 16, 15, 8, 0, 0, 0, 0]\n",
      "[0, 1, 9, 16, 16, 8, 0, 0, 0, 0]\n",
      "[0, 1, 9, 16, 16, 9, 0, 0, 0, 0]\n",
      "[0, 1, 9, 16, 16, 9, 1, 0, 0, 0]\n",
      "[0, 1, 9, 16, 16, 9, 1, 1, 0, 0]\n",
      "[0, 1, 9, 16, 16, 24, 1, 1, 0, 0]\n",
      "[0, 1, 9, 16, 16, 24, 16, 1, 0, 0]\n",
      "[0, 1, 9, 16, 16, 24, 16, 16, 0, 0]\n"
     ]
    },
    {
     "data": {
      "text/plain": [
       "24"
      ]
     },
     "execution_count": 188,
     "metadata": {},
     "output_type": "execute_result"
    }
   ],
   "source": [
    "arrayManipulation(n,queries)"
   ]
  },
  {
   "cell_type": "code",
   "execution_count": 82,
   "metadata": {},
   "outputs": [
    {
     "name": "stdout",
     "output_type": "stream",
     "text": [
      "[[0, 0, 0, 0, 0], [0, 0, 0, 0, 0], [0, 0, 0, 0, 0]]\n"
     ]
    }
   ],
   "source": [
    "res=[[0 for i in range(n)]for j in range(m)]\n",
    "print(res)"
   ]
  },
  {
   "cell_type": "code",
   "execution_count": 83,
   "metadata": {},
   "outputs": [
    {
     "data": {
      "text/plain": [
       "3"
      ]
     },
     "execution_count": 83,
     "metadata": {},
     "output_type": "execute_result"
    }
   ],
   "source": [
    "len(queries)"
   ]
  },
  {
   "cell_type": "code",
   "execution_count": 102,
   "metadata": {},
   "outputs": [
    {
     "name": "stdout",
     "output_type": "stream",
     "text": [
      "[[0, 0, 0, 0, 0], [0, 0, 0, 0, 0], [0, 0, 0, 0, 0]]\n"
     ]
    }
   ],
   "source": [
    "print(res)"
   ]
  },
  {
   "cell_type": "code",
   "execution_count": 115,
   "metadata": {},
   "outputs": [
    {
     "name": "stdout",
     "output_type": "stream",
     "text": [
      "2\n",
      "3\n",
      "[0, 0]\n"
     ]
    }
   ],
   "source": [
    "for x in range(2,4):\n",
    "    print(x)\n",
    "print(res[0][2:4])"
   ]
  },
  {
   "cell_type": "code",
   "execution_count": 148,
   "metadata": {},
   "outputs": [
    {
     "name": "stdout",
     "output_type": "stream",
     "text": [
      "[[0, 0, 0], [1, 1, 1], [2, 2, 2]]\n",
      "[0, 0]\n",
      "[[1, 0, 0, 0], [1, 1, 1], [2, 2, 2]]\n"
     ]
    }
   ],
   "source": [
    "tst=[[0,0,0],[1,1,1],[2,2,2]]\n",
    "print(tst)\n",
    "print(tst[0][1:3])\n",
    "tst[0].insert(0,1)\n",
    "print(tst)"
   ]
  },
  {
   "cell_type": "code",
   "execution_count": 216,
   "metadata": {},
   "outputs": [],
   "source": [
    "#Array Manipulation\n",
    "#case 1\n",
    "n=10\n",
    "m=4\n",
    "queries=[[2,6,8],[3,5,7],[1,8,1],[5,9,15]]\n",
    "#case 2\n",
    "#n=5\n",
    "#m=3\n",
    "#queries=[[1,2,100],[2,5,100],[3,4,100]]\n",
    "#case 3\n",
    "#n=3\n",
    "#m=5\n",
    "#queries=[[1,2,0],[0,1,1],[0,2,10],[0,2,0],[0,2,3]]"
   ]
  },
  {
   "cell_type": "code",
   "execution_count": 214,
   "metadata": {},
   "outputs": [
    {
     "name": "stdout",
     "output_type": "stream",
     "text": [
      "200\n"
     ]
    }
   ],
   "source": [
    "tst=[0]* (n+1)\n",
    "for i,j,k in queries:\n",
    "    for x in range(i-1,j):\n",
    "        tst[x]+=k\n",
    "        #tst[i+1]-=k\n",
    "print(max(tst))"
   ]
  },
  {
   "cell_type": "code",
   "execution_count": 217,
   "metadata": {},
   "outputs": [
    {
     "name": "stdout",
     "output_type": "stream",
     "text": [
      "[0, 8, 0, 0, 0, 0, -8, 0, 0, 0, 0]\n",
      "[0, 8, 7, 0, 0, -7, -8, 0, 0, 0, 0]\n",
      "[1, 8, 7, 0, 0, -7, -8, 0, -1, 0, 0]\n",
      "[1, 8, 7, 0, 15, -7, -8, 0, -1, -15, 0]\n",
      "[1, 8, 7, 0, 15, -7, -8, 0, -1, -15, 0]\n",
      "31\n"
     ]
    }
   ],
   "source": [
    "tst=[0]*(n+1)\n",
    "count=0\n",
    "temp=0\n",
    "for i,j,k in queries:\n",
    "    tst[i-1] += k\n",
    "    tst[j]-= k\n",
    "    print(tst)\n",
    "print(tst)\n",
    "for item in tst:\n",
    "    count += item\n",
    "    if count > temp:\n",
    "        temp = count    \n",
    "print(temp)"
   ]
  },
  {
   "cell_type": "code",
   "execution_count": null,
   "metadata": {},
   "outputs": [],
   "source": [
    "def arrayManipulation(n, queries):\n",
    "    res=[[0 for i in range(n)] for j in range(len(queries))]\n",
    "    cnt=0\n",
    "    for i,j,k in queries:\n",
    "        for row in queries:\n",
    "            row.insert(cnt,)\n",
    "            print(\"res[\"+str(cnt)+\"][\"+str(x)+\"]\",res[cnt][x])\n",
    "        cnt+=1\n",
    "        #print(i,j,k,sep='\\n')\n",
    "        #print(res)"
   ]
  },
  {
   "cell_type": "code",
   "execution_count": 10,
   "metadata": {},
   "outputs": [
    {
     "name": "stdout",
     "output_type": "stream",
     "text": [
      "4\n",
      "2\n",
      "3\n",
      "4\n",
      "1\n",
      "2 3 4 1 "
     ]
    }
   ],
   "source": [
    "class Node:\n",
    "    def __init__(self,data):\n",
    "        self.data = data\n",
    "        self.next = None \n",
    "class Solution: \n",
    "    def display(self,head):\n",
    "        current = head\n",
    "        while current:\n",
    "            print(current.data,end=' ')\n",
    "            current = current.next\n",
    "\n",
    "    def insert(self,head,data): \n",
    "    #Complete this method\n",
    "        if head is None:\n",
    "            head=Node(data)\n",
    "            self.tail = head\n",
    "        else:\n",
    "            node=Node(data)\n",
    "            self.tail.next=node\n",
    "            self.tail = node\n",
    "        return head\n",
    "            \n",
    "            \n",
    "mylist= Solution()\n",
    "T=int(input())\n",
    "head=None\n",
    "for i in range(T):\n",
    "    data=int(input())\n",
    "    head=mylist.insert(head,data)    \n",
    "mylist.display(head); \t  "
   ]
  },
  {
   "cell_type": "code",
   "execution_count": 6,
   "metadata": {},
   "outputs": [
    {
     "name": "stdout",
     "output_type": "stream",
     "text": [
      "<__main__.Solution object at 0x000001A314100B70>\n",
      "4\n",
      "1\n",
      "None\n"
     ]
    }
   ],
   "source": [
    "print(mylist)\n",
    "print(T)\n",
    "print(data)\n",
    "print(head)\n"
   ]
  },
  {
   "cell_type": "code",
   "execution_count": 11,
   "metadata": {},
   "outputs": [
    {
     "name": "stdout",
     "output_type": "stream",
     "text": [
      "this is a value\n"
     ]
    }
   ],
   "source": [
    "import sys\n",
    "\n",
    "\n",
    "S = input().strip()\n"
   ]
  },
  {
   "cell_type": "code",
   "execution_count": 20,
   "metadata": {},
   "outputs": [
    {
     "name": "stdout",
     "output_type": "stream",
     "text": [
      "this is a value\n",
      "t\n",
      "h\n",
      "i\n",
      "s\n",
      "Bad String\n",
      "i\n",
      "s\n",
      "Bad String\n",
      "a\n",
      "Bad String\n",
      "v\n",
      "a\n",
      "l\n",
      "u\n",
      "e\n"
     ]
    }
   ],
   "source": [
    "print(S)\n",
    "integers={0,1,2,3,4,5,6,7,8,9}\n",
    "letters={'a','b','c','d','e','f','g','h','i',\n",
    "         'j','k','l','m','n','o','p','q','r',\n",
    "         's','t','u','v','w','x','y','z'}\n",
    "#for i in S:\n",
    "for i in S:\n",
    "    if i in integers:\n",
    "        print(i)\n",
    "    elif i in letters:\n",
    "        print(i)\n",
    "    else:\n",
    "        print(\"Bad String\")"
   ]
  },
  {
   "cell_type": "code",
   "execution_count": 26,
   "metadata": {},
   "outputs": [
    {
     "name": "stdout",
     "output_type": "stream",
     "text": [
      "1\n"
     ]
    }
   ],
   "source": [
    "# Write out an exception if the string is not an integer\n",
    "#S=\"s\"\n",
    "S=1\n",
    "\n",
    "try:\n",
    "    print(int(S))\n",
    "except:\n",
    "    print(\"Bad String\")"
   ]
  },
  {
   "cell_type": "code",
   "execution_count": 2,
   "metadata": {},
   "outputs": [
    {
     "name": "stdout",
     "output_type": "stream",
     "text": [
      "a-big-cat-crossed-the-road\n"
     ]
    }
   ],
   "source": [
    "# String split and join\n",
    "mystr='a big cat crossed the road'\n",
    "a = mystr.split(\" \")\n",
    "b = \"-\".join(a)\n",
    "print(b)\n"
   ]
  },
  {
   "cell_type": "code",
   "execution_count": 7,
   "metadata": {},
   "outputs": [],
   "source": [
    "#mutate string by changing character at a location\n"
   ]
  },
  {
   "cell_type": "code",
   "execution_count": 16,
   "metadata": {},
   "outputs": [],
   "source": [
    "def cnt_substr(string,substring):\n",
    "    start=0\n",
    "    end=lsub\n",
    "    lsub=len(substring)\n",
    "    for word in range(string[start:end]):\n",
    "        if word==substring:\n",
    "            cnt+=1\n",
    "        start\n",
    "    cnt=string.find(substring)\n",
    "    return cnt"
   ]
  },
  {
   "cell_type": "code",
   "execution_count": 18,
   "metadata": {},
   "outputs": [
    {
     "data": {
      "text/plain": [
       "4"
      ]
     },
     "execution_count": 18,
     "metadata": {},
     "output_type": "execute_result"
    }
   ],
   "source": [
    "cnt_substr('ABABCABCAB','CAB')"
   ]
  },
  {
   "cell_type": "code",
   "execution_count": 19,
   "metadata": {},
   "outputs": [
    {
     "name": "stdout",
     "output_type": "stream",
     "text": [
      "ABABCABCAB\n",
      "CAB\n",
      "2\n"
     ]
    }
   ],
   "source": [
    "string, substring = (input().strip(), input().strip())\n",
    "print(sum([ 1 for i in range(len(string)-len(substring)+1) if string[i:i+len(substring)] == substring]))"
   ]
  },
  {
   "cell_type": "code",
   "execution_count": 28,
   "metadata": {},
   "outputs": [
    {
     "name": "stdout",
     "output_type": "stream",
     "text": [
      "AB\n",
      "0\n"
     ]
    },
    {
     "ename": "TypeError",
     "evalue": "'type' object is not subscriptable",
     "output_type": "error",
     "traceback": [
      "\u001b[1;31m---------------------------------------------------------------------------\u001b[0m",
      "\u001b[1;31mTypeError\u001b[0m                                 Traceback (most recent call last)",
      "\u001b[1;32m<ipython-input-28-3a77d95e4434>\u001b[0m in \u001b[0;36m<module>\u001b[1;34m\u001b[0m\n\u001b[0;32m      4\u001b[0m \u001b[1;33m\u001b[0m\u001b[0m\n\u001b[0;32m      5\u001b[0m \u001b[1;33m\u001b[0m\u001b[0m\n\u001b[1;32m----> 6\u001b[1;33m \u001b[1;32mfor\u001b[0m \u001b[0mi\u001b[0m\u001b[1;33m,\u001b[0m\u001b[0mj\u001b[0m \u001b[1;32min\u001b[0m \u001b[0mrange\u001b[0m\u001b[1;33m[\u001b[0m\u001b[1;36m1\u001b[0m\u001b[1;33m,\u001b[0m\u001b[1;36m2\u001b[0m\u001b[1;33m]\u001b[0m\u001b[1;33m:\u001b[0m\u001b[1;33m\u001b[0m\u001b[1;33m\u001b[0m\u001b[0m\n\u001b[0m\u001b[0;32m      7\u001b[0m     \u001b[0mprint\u001b[0m\u001b[1;33m(\u001b[0m\u001b[0mi\u001b[0m\u001b[1;33m,\u001b[0m\u001b[0mj\u001b[0m\u001b[1;33m)\u001b[0m\u001b[1;33m\u001b[0m\u001b[1;33m\u001b[0m\u001b[0m\n",
      "\u001b[1;31mTypeError\u001b[0m: 'type' object is not subscriptable"
     ]
    }
   ],
   "source": [
    "print(string[:2])\n",
    "for i in range(len(string[1:2])):\n",
    "    print(i)\n",
    "\n"
   ]
  },
  {
   "cell_type": "code",
   "execution_count": null,
   "metadata": {},
   "outputs": [],
   "source": [
    "print(sum([ 1 for i in range(len(string)-len(substring)+1) if string[i:i+len(substring)] == substring]))1 for i in range(len(string)-len(substring)+1) if string[i:i+len(substring)] == substring])"
   ]
  },
  {
   "cell_type": "code",
   "execution_count": 31,
   "metadata": {},
   "outputs": [
    {
     "data": {
      "text/plain": [
       "[1, 1]"
      ]
     },
     "execution_count": 31,
     "metadata": {},
     "output_type": "execute_result"
    }
   ],
   "source": [
    "[1 for i in range(len(string)-len(substring)+1) if string[i:i+len(substring)] == substring]"
   ]
  },
  {
   "cell_type": "code",
   "execution_count": 36,
   "metadata": {},
   "outputs": [
    {
     "name": "stdout",
     "output_type": "stream",
     "text": [
      "10\n",
      "3\n",
      "2\n"
     ]
    }
   ],
   "source": [
    "print(len(string))\n",
    "print(len(substring))\n",
    "\n",
    "b\n",
    "print(cnt)"
   ]
  },
  {
   "cell_type": "code",
   "execution_count": 46,
   "metadata": {},
   "outputs": [
    {
     "name": "stdout",
     "output_type": "stream",
     "text": [
      "True\n",
      "qA2\n",
      "False\n",
      "False\n",
      "False\n",
      "False\n",
      "True\n",
      "False\n",
      "False\n",
      "False\n",
      "False\n"
     ]
    }
   ],
   "source": [
    "#s='Anbb132'\n",
    "#s='123*&'\n",
    "s='qA2'\n",
    "if s.isalnum():\n",
    "    print(True)\n",
    "else:\n",
    "    print(False)\n",
    "print(s)\n",
    "if s.isalpha():\n",
    "    print(True)\n",
    "else:\n",
    "    print(False)\n",
    "if s.isdigit():\n",
    "    print(True)\n",
    "else: \n",
    "    print(False)\n",
    "if s.islower():\n",
    "    print(True)\n",
    "else:\n",
    "    print(False)\n",
    "if s.isupper():\n",
    "    print(True)\n",
    "else:\n",
    "    print(False)\n"
   ]
  },
  {
   "cell_type": "code",
   "execution_count": 48,
   "metadata": {},
   "outputs": [
    {
     "name": "stdout",
     "output_type": "stream",
     "text": [
      "True\n",
      "qA2\n",
      "False\n",
      "False\n",
      "False\n",
      "False\n",
      "True\n",
      "True\n",
      "True\n",
      "True\n",
      "True\n"
     ]
    }
   ],
   "source": [
    "print(s.isalnum())    \n",
    "print(s)\n",
    "print(s.isalpha())    \n",
    "print(s.isdigit())    \n",
    "print(s.islower())    \n",
    "print(s.isupper())    \n"
   ]
  },
  {
   "cell_type": "code",
   "execution_count": 49,
   "metadata": {},
   "outputs": [
    {
     "name": "stdout",
     "output_type": "stream",
     "text": [
      "True\n",
      "True\n",
      "True\n",
      "True\n",
      "True\n"
     ]
    }
   ],
   "source": [
    "isalnm, isal, isnm, islo, isup=0, 0, 0, 0, 0\n",
    "for i in s:\n",
    "    if i.isalnum():\n",
    "        isalnm=1\n",
    "    if i.isalpha():\n",
    "        isal=1\n",
    "    if i.isdigit():\n",
    "        isnm=1\n",
    "    if i.islower():\n",
    "        islo=1\n",
    "    if i.isupper():\n",
    "        isup=1\n",
    "if isalnm==1:\n",
    "    print(True)\n",
    "else:\n",
    "    print(False)\n",
    "if isal==1:\n",
    "    print(True)\n",
    "else:\n",
    "    print(False)\n",
    "if isnm==1:\n",
    "    print(True)\n",
    "else:\n",
    "    print(False)\n",
    "if islo==1:\n",
    "    print(True)\n",
    "else:\n",
    "    print(False)\n",
    "if isup==1:\n",
    "    print(True)\n",
    "else:\n",
    "    print(False)\n",
    "    "
   ]
  },
  {
   "cell_type": "code",
   "execution_count": 50,
   "metadata": {},
   "outputs": [
    {
     "name": "stdout",
     "output_type": "stream",
     "text": [
      "True\n"
     ]
    }
   ],
   "source": [
    "print( any(c.isalnum() for c in s))"
   ]
  },
  {
   "cell_type": "code",
   "execution_count": 56,
   "metadata": {},
   "outputs": [],
   "source": [
    "#wrap string\n",
    "mystr='ABCDEFGHIJKLMNOPQRSTUVWXYZ'\n",
    "max_width=5\n",
    "strt=0\n",
    "end=max_width\n",
    "i=0\n",
    "while i > len(mystr) - max_width:\n",
    "    print(mystr[strt:end])\n",
    "    strt+=max_width\n",
    "    end+=max_width\n",
    "    i+=max_width"
   ]
  },
  {
   "cell_type": "code",
   "execution_count": 63,
   "metadata": {},
   "outputs": [
    {
     "name": "stdout",
     "output_type": "stream",
     "text": [
      "ABCDE\n",
      "FGHIJ\n",
      "KLMNO\n",
      "PQRST\n",
      "UVWXY\n",
      "Z\n"
     ]
    }
   ],
   "source": [
    "len(mystr)- max_width\n",
    "print(mystr[0:5])\n",
    "print(mystr[5:10])\n",
    "print(mystr[10:15])\n",
    "print(mystr[15:20])\n",
    "print(mystr[20:25])\n",
    "print(mystr[25:26])"
   ]
  },
  {
   "cell_type": "code",
   "execution_count": 68,
   "metadata": {},
   "outputs": [
    {
     "name": "stdout",
     "output_type": "stream",
     "text": [
      "ABCDE\n",
      "FGHIJ\n",
      "KLMNO\n",
      "PQRST\n",
      "UVWXY\n",
      "Z\n"
     ]
    }
   ],
   "source": [
    "strt=0\n",
    "end=max_width\n",
    "while strt<len(mystr)-max_width:\n",
    "    print(mystr[strt:end])\n",
    "    strt+=max_width\n",
    "    end+=max_width\n",
    "print(mystr[strt:])    "
   ]
  },
  {
   "cell_type": "code",
   "execution_count": 70,
   "metadata": {},
   "outputs": [
    {
     "name": "stdout",
     "output_type": "stream",
     "text": [
      "ABCDE\n",
      "FGHIJ\n",
      "KLMNO\n",
      "PQRST\n",
      "UVWXY\n",
      "Z\n"
     ]
    }
   ],
   "source": [
    "for i in range(0,len(mystr),max_width):\n",
    "    print(mystr[i:i+max_width])"
   ]
  },
  {
   "cell_type": "code",
   "execution_count": 72,
   "metadata": {},
   "outputs": [
    {
     "name": "stdout",
     "output_type": "stream",
     "text": [
      "ABABC\n",
      "ABCAB\n"
     ]
    }
   ],
   "source": [
    "    print( \"\\n\".join([string[i:i+max_width] for i in range(0, len(string), max_width)]))"
   ]
  },
  {
   "cell_type": "code",
   "execution_count": 83,
   "metadata": {},
   "outputs": [],
   "source": [
    "n,m=7,21\n",
    "for i,j in range(m,n):\n",
    "    print(i,j)"
   ]
  },
  {
   "cell_type": "code",
   "execution_count": 94,
   "metadata": {},
   "outputs": [
    {
     "name": "stdout",
     "output_type": "stream",
     "text": [
      "-\n"
     ]
    },
    {
     "ename": "TypeError",
     "evalue": "can only join an iterable",
     "output_type": "error",
     "traceback": [
      "\u001b[1;31m---------------------------------------------------------------------------\u001b[0m",
      "\u001b[1;31mTypeError\u001b[0m                                 Traceback (most recent call last)",
      "\u001b[1;32m<ipython-input-94-87dc4878cb33>\u001b[0m in \u001b[0;36m<module>\u001b[1;34m\u001b[0m\n\u001b[0;32m      1\u001b[0m \u001b[1;32mfor\u001b[0m \u001b[0mi\u001b[0m \u001b[1;32min\u001b[0m \u001b[0mrange\u001b[0m\u001b[1;33m(\u001b[0m\u001b[1;36m0\u001b[0m\u001b[1;33m,\u001b[0m\u001b[0mm\u001b[0m\u001b[1;33m,\u001b[0m\u001b[0mn\u001b[0m\u001b[1;33m)\u001b[0m\u001b[1;33m:\u001b[0m\u001b[1;33m\u001b[0m\u001b[1;33m\u001b[0m\u001b[0m\n\u001b[0;32m      2\u001b[0m     \u001b[1;32mfor\u001b[0m \u001b[0mj\u001b[0m \u001b[1;32min\u001b[0m \u001b[0mrange\u001b[0m\u001b[1;33m(\u001b[0m\u001b[0mi\u001b[0m\u001b[1;33m)\u001b[0m\u001b[1;33m:\u001b[0m\u001b[1;33m\u001b[0m\u001b[1;33m\u001b[0m\u001b[0m\n\u001b[1;32m----> 3\u001b[1;33m         \u001b[1;34m\"-\"\u001b[0m\u001b[1;33m.\u001b[0m\u001b[0mjoin\u001b[0m\u001b[1;33m(\u001b[0m\u001b[0mi\u001b[0m\u001b[1;33m)\u001b[0m\u001b[1;33m\u001b[0m\u001b[1;33m\u001b[0m\u001b[0m\n\u001b[0m\u001b[0;32m      4\u001b[0m     \u001b[0mprint\u001b[0m\u001b[1;33m(\u001b[0m\u001b[1;34m\"-\"\u001b[0m\u001b[1;33m,\u001b[0m\u001b[0msep\u001b[0m\u001b[1;33m=\u001b[0m\u001b[1;34m\"\\n\"\u001b[0m\u001b[1;33m)\u001b[0m\u001b[1;33m\u001b[0m\u001b[1;33m\u001b[0m\u001b[0m\n",
      "\u001b[1;31mTypeError\u001b[0m: can only join an iterable"
     ]
    }
   ],
   "source": [
    "for i in range(0,m,n):\n",
    "    for j in range(i):\n",
    "        \"-\".join(i)\n",
    "    print(\"-\",sep=\"\\n\")"
   ]
  },
  {
   "cell_type": "code",
   "execution_count": 95,
   "metadata": {},
   "outputs": [],
   "source": [
    "for i,j in range(m,n):\n",
    "    print(i,j)"
   ]
  },
  {
   "cell_type": "code",
   "execution_count": 108,
   "metadata": {},
   "outputs": [
    {
     "name": "stdout",
     "output_type": "stream",
     "text": [
      "7 21\n"
     ]
    }
   ],
   "source": [
    "n,m=map(int,input().split())"
   ]
  },
  {
   "cell_type": "code",
   "execution_count": 98,
   "metadata": {},
   "outputs": [
    {
     "name": "stdout",
     "output_type": "stream",
     "text": [
      "3\n",
      "9\n"
     ]
    }
   ],
   "source": [
    "print(n)\n",
    "print(m)"
   ]
  },
  {
   "cell_type": "code",
   "execution_count": 102,
   "metadata": {},
   "outputs": [
    {
     "name": "stdout",
     "output_type": "stream",
     "text": [
      ".|..|..|..|..|..|..|. \n",
      "\n",
      "-WELCOME- \n",
      "\n",
      ".|..|..|..|..|..|..|. \n",
      "\n"
     ]
    }
   ],
   "source": [
    "h=n//2\n",
    "g=2*n+1\n",
    "for i in range(h):\n",
    "    print(('.|.'*g).center(m,'-'),\"\\n\")\n",
    "    print(\"WELCOME\".center(m,'-'),\"\\n\")\n",
    "for i in range(h,0,-1):\n",
    "    print(('.|.'*g).center(m,'-'),\"\\n\")"
   ]
  },
  {
   "cell_type": "code",
   "execution_count": 111,
   "metadata": {},
   "outputs": [
    {
     "name": "stdout",
     "output_type": "stream",
     "text": [
      " ---\n"
     ]
    }
   ],
   "source": [
    "ln=' '\n",
    "h=n//2\n",
    "for i in range(h):\n",
    "    ln+='-'\n",
    "ln=ln+    \n",
    "print(ln)"
   ]
  },
  {
   "cell_type": "code",
   "execution_count": 112,
   "metadata": {},
   "outputs": [
    {
     "name": "stdout",
     "output_type": "stream",
     "text": [
      "9 27\n",
      "------------.|.------------\n",
      "---------.|..|..|.---------\n",
      "------.|..|..|..|..|.------\n",
      "---.|..|..|..|..|..|..|.---\n",
      "----------WELCOME----------\n",
      "---.|..|..|..|..|..|..|.---\n",
      "------.|..|..|..|..|.------\n",
      "---------.|..|..|.---------\n",
      "------------.|.------------\n"
     ]
    }
   ],
   "source": [
    "N, M = map(int, input().split()) \n",
    "for i in range(1,N,2): \n",
    "    print((i*'.|.').center(M,'-'))\n",
    "print('WELCOME'.center(M,'-')) \n",
    "for i in range(N-2,-1,-2): \n",
    "    print((i*'.|.').center(M, '-'))"
   ]
  },
  {
   "cell_type": "code",
   "execution_count": 124,
   "metadata": {},
   "outputs": [
    {
     "name": "stdout",
     "output_type": "stream",
     "text": [
      "------------.|.------------\n",
      "---------.|..|..|.---------\n",
      "------.|..|..|..|..|.------\n",
      "---.|..|..|..|..|..|..|.---\n",
      "----------WELCOME----------\n",
      "---.|..|..|..|..|..|..|.---\n",
      "------.|..|..|..|..|.------\n",
      "---------.|..|..|.---------\n",
      "------------.|.------------\n"
     ]
    }
   ],
   "source": [
    "for i in range(1,N,2):\n",
    "    print(('.|.'*i).center(M,\"-\"))\n",
    "print(('WELCOME').center(M,\"-\"))    \n",
    "j=i\n",
    "for i in range(1,N,2):\n",
    "    print(('.|.'*j).center(M,\"-\"))\n",
    "    j-=2"
   ]
  },
  {
   "cell_type": "code",
   "execution_count": 136,
   "metadata": {},
   "outputs": [
    {
     "name": "stdout",
     "output_type": "stream",
     "text": [
      "------------.|.------------\n",
      "---------.|..|..|.---------\n",
      "------.|..|..|..|..|.------\n",
      "---.|..|..|..|..|..|..|.---\n",
      "----------WELCOME----------\n",
      "---.|..|..|..|..|..|..|.---\n",
      "------.|..|..|..|..|.------\n",
      "---------.|..|..|.---------\n",
      "------------.|.------------\n"
     ]
    }
   ],
   "source": [
    "n,m = 9, 27\n",
    "i=0\n",
    "for i in range(1,n,2):\n",
    "    print(('.|.'*i).center(m,'-'))\n",
    "print(('WELCOME').center(m,'-'))\n",
    "j=i\n",
    "for i in range(1,n,2):\n",
    "    print(('.|.'*j).center(m,'-'))\n",
    "    j-=2"
   ]
  },
  {
   "cell_type": "code",
   "execution_count": 141,
   "metadata": {},
   "outputs": [
    {
     "name": "stdout",
     "output_type": "stream",
     "text": [
      "------------.|.------------\n",
      "------------.|.------------\n",
      "------------.|.------------\n",
      "------------.|.------------\n"
     ]
    }
   ],
   "source": [
    "m, n = 27, 9\n",
    "for i in range(1,n,2):\n",
    "    print(('.|.').center(m,'-'))"
   ]
  },
  {
   "cell_type": "code",
   "execution_count": 12,
   "metadata": {},
   "outputs": [
    {
     "name": "stdout",
     "output_type": "stream",
     "text": [
      "1\n",
      "2\n",
      "[[1, 2, 3], [1, 2, 3], [1, 2, 3]]\n"
     ]
    }
   ],
   "source": [
    "w=3\n",
    "for i in range(1,n):\n",
    "    print(i)\n",
    "    \n",
    "h=w\n",
    "mylst=[[i for i in range(1,w+1)] for j in range(1,h+1)]\n",
    "print(mylst)\n",
    "    "
   ]
  },
  {
   "cell_type": "code",
   "execution_count": 19,
   "metadata": {},
   "outputs": [
    {
     "name": "stdout",
     "output_type": "stream",
     "text": [
      "----1----\n",
      "----22---\n",
      "---333---\n",
      "---4444--\n",
      "--55555--\n",
      "--666666-\n",
      "-7777777-\n",
      "-88888888\n"
     ]
    }
   ],
   "source": [
    "w=3\n",
    "h=w\n",
    "for i in range(1,h * w):\n",
    "    print((str(i)*i).center(w*h,'-'))"
   ]
  },
  {
   "cell_type": "code",
   "execution_count": null,
   "metadata": {},
   "outputs": [],
   "source": [
    "w=3\n",
    "h=w\n",
    "for i in range(1,(w * h) + 1 ,2):\n",
    "    print()\n",
    "    "
   ]
  },
  {
   "cell_type": "code",
   "execution_count": 20,
   "metadata": {},
   "outputs": [
    {
     "name": "stdout",
     "output_type": "stream",
     "text": [
      "1 a\n",
      "2 b\n",
      "3 c\n",
      "4 d\n",
      "5 e\n",
      "6 f\n",
      "7 g\n",
      "8 h\n",
      "9 i\n",
      "10 j\n",
      "11 k\n",
      "12 l\n",
      "13 m\n",
      "14 n\n",
      "15 o\n",
      "16 p\n",
      "17 q\n",
      "18 r\n",
      "19 s\n",
      "20 t\n",
      "21 u\n",
      "22 v\n",
      "23 w\n",
      "24 x\n",
      "25 y\n",
      "26 z\n"
     ]
    }
   ],
   "source": [
    "for x, y in ((x + 1, chr(ord('a') + x)) for x in range(26)):\n",
    "    print(x, y)"
   ]
  },
  {
   "cell_type": "code",
   "execution_count": 100,
   "metadata": {},
   "outputs": [
    {
     "name": "stdout",
     "output_type": "stream",
     "text": [
      "1 a\n",
      "2 b\n",
      "3 c\n",
      "4 d\n",
      "5 e\n",
      "6 f\n",
      "7 g\n",
      "8 h\n",
      "9 i\n",
      "10 j\n",
      "11 k\n",
      "12 l\n",
      "13 m\n",
      "14 n\n",
      "15 o\n",
      "16 p\n",
      "17 q\n",
      "18 r\n",
      "19 s\n",
      "20 t\n",
      "21 u\n",
      "22 v\n",
      "23 w\n",
      "24 x\n",
      "25 y\n",
      "26 z\n"
     ]
    }
   ],
   "source": [
    "import string\n",
    "            \n",
    "for x,y in zip(range(1,27), string.ascii_lowercase):\n",
    "    print(x,y)"
   ]
  },
  {
   "cell_type": "code",
   "execution_count": 25,
   "metadata": {},
   "outputs": [
    {
     "name": "stdout",
     "output_type": "stream",
     "text": [
      "<class 'str'> \b\n"
     ]
    }
   ],
   "source": [
    "# chr and ord\n",
    "x=chr(i)\n",
    "print(type(x),x)\n",
    "i =ord(c)"
   ]
  },
  {
   "cell_type": "code",
   "execution_count": 29,
   "metadata": {},
   "outputs": [
    {
     "name": "stdout",
     "output_type": "stream",
     "text": [
      "s= a-b-c\n",
      "L= ['c-b-a-b-c']\n",
      "s= b-c\n",
      "L= ['c-b-a-b-c', '--c-b-c--']\n",
      "s= c\n",
      "L= ['c-b-a-b-c', '--c-b-c--', '----c----']\n",
      "----c----\n",
      "--c-b-c--\n",
      "c-b-a-b-c\n",
      "--c-b-c--\n",
      "----c----\n"
     ]
    }
   ],
   "source": [
    "    size=3\n",
    "    import string\n",
    "    alpha = string.ascii_lowercase\n",
    "\n",
    "    L = []\n",
    "    for i in range(size):\n",
    "        s = \"-\".join(alpha[i:size])\n",
    "        print(\"s=\",s)\n",
    "        L.append((s[::-1]+s[1:]).center(4*size-3, \"-\"))\n",
    "        print(\"L=\",L)\n",
    "    print('\\n'.join(L[:0:-1]+L))\n"
   ]
  },
  {
   "cell_type": "code",
   "execution_count": 34,
   "metadata": {},
   "outputs": [
    {
     "name": "stdout",
     "output_type": "stream",
     "text": [
      "['c-b-a-b-c']\n",
      "['c-b-a-b-c', '--c-b-c--']\n",
      "['c-b-a-b-c', '--c-b-c--', '----c----']\n"
     ]
    }
   ],
   "source": [
    "size=3\n",
    "L=[]\n",
    "for i in range(size):\n",
    "    s=\"-\".join(alpha[i:size])\n",
    "    L.append((s[::-1]+s[1::]).center(4*size-3,\"-\"))\n",
    "    print(L)\n",
    "    "
   ]
  },
  {
   "cell_type": "code",
   "execution_count": 43,
   "metadata": {},
   "outputs": [
    {
     "name": "stdout",
     "output_type": "stream",
     "text": [
      "['viraj', 'kumbhakarna']\n",
      " Viraj Kumbhakarna\n",
      "v\n",
      "i\n",
      "r\n",
      "a\n",
      "j\n",
      " \n",
      "k\n",
      "u\n",
      "m\n",
      "b\n",
      "h\n",
      "a\n",
      "k\n",
      "a\n",
      "r\n",
      "n\n",
      "a\n"
     ]
    }
   ],
   "source": [
    "s=\"viraj kumbhakarna\"\n",
    "\n",
    "L=s.title()\n",
    "print(L)\n",
    "ns=\"\"\n",
    "for i in L:\n",
    "    ns=ns+\" \"+i.title()\n",
    "print(ns)    \n",
    "\n",
    "for i in range(len(s)):\n",
    "    print(s[i])"
   ]
  },
  {
   "cell_type": "code",
   "execution_count": 51,
   "metadata": {},
   "outputs": [
    {
     "name": "stdout",
     "output_type": "stream",
     "text": [
      "12raj \n"
     ]
    }
   ],
   "source": [
    "s=\"viraj kumbhakarna\"\n",
    "s=\"12raj A12bhakarna\"\n",
    "s=\"12raj\"\n",
    "\n",
    "L=s.split()\n",
    "ns=\"\"\n",
    "\n",
    "for i in L:\n",
    "    ns=ns+i[0].upper()+i[1:].lower()+\" \"\n",
    "print(ns)    "
   ]
  },
  {
   "cell_type": "code",
   "execution_count": 62,
   "metadata": {},
   "outputs": [
    {
     "name": "stdout",
     "output_type": "stream",
     "text": [
      "Viraj Kumbhakarna\n"
     ]
    }
   ],
   "source": [
    "s='viraj kumbhakarna'\n",
    "ns=s.split(\" \")\n",
    "os=''\n",
    "#print(type(ns),ns)\n",
    "print(' '.join((word.capitalize() for word in ns)))\n"
   ]
  },
  {
   "cell_type": "code",
   "execution_count": 64,
   "metadata": {},
   "outputs": [
    {
     "name": "stdout",
     "output_type": "stream",
     "text": [
      "<class 'list'> ['viraj', 'kumbhakarna']\n",
      "<class 'list'> ['', '', '', 'viraj', '', '', '', '', 'kumbhakarna']\n"
     ]
    }
   ],
   "source": [
    "s='   viraj     kumbhakarna'\n",
    "ns=s.split()\n",
    "print(type(ns),ns)\n",
    "ns2=s.split(\" \")\n",
    "print(type(ns2),ns2)"
   ]
  },
  {
   "cell_type": "code",
   "execution_count": 67,
   "metadata": {},
   "outputs": [
    {
     "name": "stdout",
     "output_type": "stream",
     "text": [
      "Sz 12x Sae G 12\n",
      "Sz 12x   Sae  G 12\n"
     ]
    }
   ],
   "source": [
    "s=\"sz 12x   sae  g 12\"\n",
    "ns1=s.split()\n",
    "ns2=s.split(\" \")\n",
    "print(\" \".join(word.b() for word in ns1))\n",
    "print(\" \".join(word.capitalize() for word in ns2))"
   ]
  },
  {
   "cell_type": "code",
   "execution_count": 71,
   "metadata": {},
   "outputs": [
    {
     "name": "stdout",
     "output_type": "stream",
     "text": [
      "Viraj         Kumbhakarna\n"
     ]
    }
   ],
   "source": [
    "s=\"viraj         kumbhakarna\"\n",
    "ns=s.split(\" \")\n",
    "print(\" \".join(word.capitalize() for word in ns))"
   ]
  },
  {
   "cell_type": "code",
   "execution_count": 96,
   "metadata": {},
   "outputs": [
    {
     "name": "stdout",
     "output_type": "stream",
     "text": [
      "a-b-c\n",
      "['c-b-a-b-c']\n",
      "b-c\n",
      "['c-b-a-b-c', '--c-b-c--']\n",
      "c\n",
      "['c-b-a-b-c', '--c-b-c--', '----c----']\n",
      "----c----\n",
      "--c-b-c--\n",
      "c-b-a-b-c\n",
      "--c-b-c--\n",
      "----c----\n"
     ]
    }
   ],
   "source": [
    "import string\n",
    "alpha=string.ascii_lowercase\n",
    "\n",
    "L=[]\n",
    "for i in range(n):\n",
    "    s=\"-\".join(alpha[i:size])\n",
    "    print(s)\n",
    "    L.append((s[::-1]+s[1::]).center(4*n-3,\"-\"))\n",
    "    print(L)\n",
    "print( '\\n'.join(L[n:0:-1]+L))    "
   ]
  },
  {
   "cell_type": "code",
   "execution_count": 103,
   "metadata": {},
   "outputs": [
    {
     "name": "stdout",
     "output_type": "stream",
     "text": [
      "<class 'dict'> {1: 'a', 2: 'b', 3: 'c', 4: 'd', 5: 'e', 6: 'f', 7: 'g', 8: 'h', 9: 'i', 10: 'j', 11: 'k', 12: 'l', 13: 'm', 14: 'n', 15: 'o', 16: 'p', 17: 'q', 18: 'r', 19: 's', 20: 't', 21: 'u', 22: 'v', 23: 'w', 24: 'x', 25: 'y', 26: 'z'}\n"
     ]
    }
   ],
   "source": [
    "import string\n",
    "mydict=dict(zip(range(1,27),string.ascii_lowercase))\n",
    "print(type(mydict),mydict)\n",
    "            "
   ]
  },
  {
   "cell_type": "code",
   "execution_count": 106,
   "metadata": {},
   "outputs": [
    {
     "name": "stdout",
     "output_type": "stream",
     "text": [
      "z\n"
     ]
    }
   ],
   "source": [
    "print(mydict[26])"
   ]
  },
  {
   "cell_type": "code",
   "execution_count": 112,
   "metadata": {},
   "outputs": [
    {
     "name": "stdout",
     "output_type": "stream",
     "text": [
      "1 a\n",
      "2 b\n",
      "3 c\n",
      "4 d\n",
      "5 e\n",
      "6 f\n",
      "7 g\n",
      "8 h\n",
      "9 i\n",
      "10 j\n",
      "11 k\n",
      "12 l\n",
      "13 m\n",
      "14 n\n",
      "15 o\n",
      "16 p\n",
      "17 q\n",
      "18 r\n",
      "19 s\n",
      "20 t\n",
      "21 u\n",
      "22 v\n",
      "23 w\n",
      "24 x\n",
      "25 y\n",
      "26 z\n",
      "1 100\n",
      "2 200\n",
      "3 300\n",
      "4 400\n",
      "5 500\n",
      "6 600\n",
      "7 700\n",
      "8 800\n",
      "9 900\n",
      "{1: 100, 2: 200, 3: 300, 4: 400, 5: 500, 6: 600, 7: 700, 8: 800, 9: 900}\n"
     ]
    }
   ],
   "source": [
    "import string\n",
    "mydict=zip(range(1,27),string.ascii_lowercase)\n",
    "\n",
    "for x,y in zip(range(1,27),string.ascii_lowercase):\n",
    "    print(x,y)\n",
    "    \n",
    "    \n",
    "mydict1=dict(zip(range(1,10),range(100,1000,100)))\n",
    "for i,i1 in zip(range(1,10),range(100,1000,100)):\n",
    "    print(i,i1)\n",
    "print(mydict1)    "
   ]
  },
  {
   "cell_type": "code",
   "execution_count": 123,
   "metadata": {},
   "outputs": [
    {
     "name": "stdout",
     "output_type": "stream",
     "text": [
      "------------.|.------------\n",
      "---------.|..|..|.---------\n",
      "------.|..|..|..|..|.------\n",
      "---.|..|..|..|..|..|..|.---\n",
      "----------WELCOME----------\n",
      "---.|..|..|..|..|..|..|.---\n",
      "------.|..|..|..|..|.------\n",
      "---------.|..|..|.---------\n",
      "------------.|.------------\n"
     ]
    }
   ],
   "source": [
    "m,n=9,27\n",
    "for i in range(1,m,2):\n",
    "    print(('.|.'*i).center(n,'-'))\n",
    "print(('WELCOME').center(n,'-'))    \n",
    "j=i\n",
    "for i in range(1,m,2):\n",
    "    print(('.|.'*j).center(n,'-'))\n",
    "    j-=2"
   ]
  },
  {
   "cell_type": "code",
   "execution_count": 154,
   "metadata": {},
   "outputs": [
    {
     "name": "stdout",
     "output_type": "stream",
     "text": [
      "2\n",
      "  1   1   1   1\n",
      "  2   2   2  10\n"
     ]
    }
   ],
   "source": [
    "n=2\n",
    "width = len(\"{0:b}\".format(n))\n",
    "print(width)\n",
    "for i  in range(1,n+1):\n",
    "    print(str(i).rjust(w),str(oct(i)).split('o')[1].rjust(w),str(hex(i)).split('x')[1].rjust(w) ,str(bin(i)).split('b')[1].rjust(w))\n",
    "    "
   ]
  },
  {
   "cell_type": "code",
   "execution_count": 159,
   "metadata": {},
   "outputs": [
    {
     "name": "stdout",
     "output_type": "stream",
     "text": [
      "5\n",
      "    1     1     1     1\n",
      "    2     2     2    10\n",
      "    3     3     3    11\n",
      "    4     4     4   100\n",
      "    5     5     5   101\n",
      "    6     6     6   110\n",
      "    7     7     7   111\n",
      "    8    10     8  1000\n",
      "    9    11     9  1001\n",
      "   10    12     A  1010\n",
      "   11    13     B  1011\n",
      "   12    14     C  1100\n",
      "   13    15     D  1101\n",
      "   14    16     E  1110\n",
      "   15    17     F  1111\n",
      "   16    20    10 10000\n"
     ]
    }
   ],
   "source": [
    "    number=16\n",
    "    w=len(bin(number)[2:])\n",
    "    print(w)\n",
    "    for i in range(1,number+1):\n",
    "        print (str(i).rjust(w,' '),str(oct(i).split('o')[1]).rjust(w,' '),str(hex(i)[2:].upper()).rjust(w,' '),str(bin(i)[2:]).rjust(w,' '),sep=' ')\n"
   ]
  },
  {
   "cell_type": "code",
   "execution_count": 162,
   "metadata": {},
   "outputs": [
    {
     "name": "stdout",
     "output_type": "stream",
     "text": [
      "b10000\n"
     ]
    }
   ],
   "source": [
    "print(bin(number)[])"
   ]
  },
  {
   "cell_type": "code",
   "execution_count": 187,
   "metadata": {},
   "outputs": [
    {
     "name": "stdout",
     "output_type": "stream",
     "text": [
      "0 b b\n",
      "0 b b\n",
      "0 b b\n",
      "0 b b\n",
      "0 b b\n",
      "1 a a\n",
      "1 a a\n",
      "1 a a\n",
      "1 a a\n",
      "2 n n\n",
      "2 n n\n",
      "2 n n\n",
      "3 a a\n",
      "3 a a\n",
      "4 n n\n"
     ]
    }
   ],
   "source": [
    "s='banana'\n",
    "vow=('a','e','i','o','u')\n",
    "cons=('b','c','d','f','g','h','j','k','l','m','n','p','q','r','s','t','v','w','x','y','z')\n",
    "for i in range(len(s)):\n",
    "    #Count Kevin's score - \n",
    "    if i in vow:\n",
    "        for j in s[i+1:]:\n",
    "            print(s[i],j)\n",
    "    #count stuart's score\n",
    "    else:\n",
    "        for j in s[i+1:]:\n",
    "            print(i,s[i],s[i][0] )\n",
    "        "
   ]
  },
  {
   "cell_type": "code",
   "execution_count": 205,
   "metadata": {},
   "outputs": [
    {
     "name": "stdout",
     "output_type": "stream",
     "text": [
      "['B', 'BA', 'BAN', 'BANA', 'BANAN', 'BANANA', 'A', 'AN', 'ANA', 'ANAN', 'ANANA', 'N', 'NA', 'NAN', 'NANA', 'A', 'AN', 'ANA', 'N', 'NA', 'A']\n",
      "{'BANAN': 1, 'BANA': 1, 'BANANA': 1, 'AN': 2, 'ANA': 2, 'NA': 2, 'ANAN': 1, 'NAN': 1, 'NANA': 1, 'BAN': 1, 'BA': 1, 'N': 2, 'ANANA': 1, 'A': 3, 'B': 1}\n",
      "Stuart 12\n"
     ]
    }
   ],
   "source": [
    "s='BANANA'\n",
    "L=[]\n",
    "k_scr, s_scr=0, 0\n",
    "vow=('a','e','i','o','u')\n",
    "for i in range(len(s)):\n",
    "    for j in range(i,len(s)):\n",
    "        L.append(s[i:j+1])\n",
    "print(L)        \n",
    "mydict=dict((x,L.count(x)) for x in set(L))\n",
    "print(mydict)\n",
    "for id in mydict:\n",
    "    if id[0].lower() in vow:\n",
    "        k_scr+=mydict[id]\n",
    "    else:\n",
    "        s_scr+=mydict[id]\n",
    "if s_scr==k_scr:\n",
    "    print(\"Draw\")\n",
    "elif s_scr>k_scr:\n",
    "    print(\"Stuart\",s_scr)\n",
    "else:\n",
    "    print(\"Kevin\",k_scr)"
   ]
  },
  {
   "cell_type": "code",
   "execution_count": 209,
   "metadata": {},
   "outputs": [
    {
     "name": "stdout",
     "output_type": "stream",
     "text": [
      "Stuart 12\n"
     ]
    }
   ],
   "source": [
    "s='BANANA'\n",
    "sscr,kscr=0,0\n",
    "for i in range(len(s)):\n",
    "    if s[i] in ('AEIOU'):\n",
    "        kscr+= len(s) -i\n",
    "    else:\n",
    "        sscr+= len(s) -i\n",
    "if kscr==sscr:\n",
    "    print(\"Draw\")\n",
    "elif kscr>sscr:\n",
    "    print(\"Kevin\",kscr)\n",
    "else:\n",
    "    print(\"Stuart\",sscr)"
   ]
  },
  {
   "cell_type": "code",
   "execution_count": 216,
   "metadata": {},
   "outputs": [
    {
     "name": "stdout",
     "output_type": "stream",
     "text": [
      "AB\n",
      "CA\n",
      "DA\n"
     ]
    }
   ],
   "source": [
    "k='AABCAAADA'\n",
    "n=3\n",
    "\n",
    "for i in range(0,len(k),n):\n",
    "    #print(k[i:i+n])\n",
    "    print(\"\".join(set(k[i:i+n])))"
   ]
  },
  {
   "cell_type": "code",
   "execution_count": 239,
   "metadata": {},
   "outputs": [
    {
     "name": "stdout",
     "output_type": "stream",
     "text": [
      "AAB\n",
      "W AB\n",
      "AB\n",
      "CAA\n",
      "CA\n",
      "ADA\n",
      "W DA\n",
      "DA\n"
     ]
    }
   ],
   "source": [
    "string='AABCAAADA'\n",
    "k=3\n",
    "\n",
    "for i in range(0,len(string),k):\n",
    "    print(string[i:i+k])\n",
    "    if string[i]==string[i-1]:\n",
    "        word=string[i+1:i+k]\n",
    "        print(\"W\",word)\n",
    "    print(\"\".join(set(string[i:i+k])))"
   ]
  }
 ],
 "metadata": {
  "kernelspec": {
   "display_name": "Python 3",
   "language": "python",
   "name": "python3"
  },
  "language_info": {
   "codemirror_mode": {
    "name": "ipython",
    "version": 3
   },
   "file_extension": ".py",
   "mimetype": "text/x-python",
   "name": "python",
   "nbconvert_exporter": "python",
   "pygments_lexer": "ipython3",
   "version": "3.7.3"
  }
 },
 "nbformat": 4,
 "nbformat_minor": 2
}
